{
 "cells": [
  {
   "cell_type": "code",
   "execution_count": 102,
   "metadata": {
    "ExecuteTime": {
     "end_time": "2019-10-30T11:03:01.264400Z",
     "start_time": "2019-10-30T11:03:01.255741Z"
    }
   },
   "outputs": [],
   "source": [
    "from pyspark.sql import SparkSession\n",
    "from pyspark.sql import functions as f\n",
    "from pyspark.sql import Row, Column\n",
    "import datetime"
   ]
  },
  {
   "cell_type": "code",
   "execution_count": 6,
   "metadata": {
    "ExecuteTime": {
     "end_time": "2019-10-30T09:05:28.798725Z",
     "start_time": "2019-10-30T09:05:28.786747Z"
    }
   },
   "outputs": [],
   "source": [
    "spark = SparkSession.builder.appName(\"lab_2_spark\").getOrCreate()\n",
    "sc = spark.sparkContext"
   ]
  },
  {
   "cell_type": "markdown",
   "metadata": {},
   "source": [
    "Data frame creation"
   ]
  },
  {
   "cell_type": "code",
   "execution_count": 9,
   "metadata": {
    "ExecuteTime": {
     "end_time": "2019-10-30T09:06:22.754487Z",
     "start_time": "2019-10-30T09:06:19.868658Z"
    },
    "collapsed": true
   },
   "outputs": [
    {
     "data": {
      "text/html": [
       "<div>\n",
       "<style scoped>\n",
       "    .dataframe tbody tr th:only-of-type {\n",
       "        vertical-align: middle;\n",
       "    }\n",
       "\n",
       "    .dataframe tbody tr th {\n",
       "        vertical-align: top;\n",
       "    }\n",
       "\n",
       "    .dataframe thead th {\n",
       "        text-align: right;\n",
       "    }\n",
       "</style>\n",
       "<table border=\"1\" class=\"dataframe\">\n",
       "  <thead>\n",
       "    <tr style=\"text-align: right;\">\n",
       "      <th></th>\n",
       "      <th>age</th>\n",
       "      <th>date</th>\n",
       "      <th>name</th>\n",
       "      <th>sex</th>\n",
       "    </tr>\n",
       "  </thead>\n",
       "  <tbody>\n",
       "    <tr>\n",
       "      <th>0</th>\n",
       "      <td>25</td>\n",
       "      <td>2018-01-03</td>\n",
       "      <td>Ankit</td>\n",
       "      <td>Girl</td>\n",
       "    </tr>\n",
       "    <tr>\n",
       "      <th>1</th>\n",
       "      <td>22</td>\n",
       "      <td>2018-02-03</td>\n",
       "      <td>Jalfaizy</td>\n",
       "      <td>Girl</td>\n",
       "    </tr>\n",
       "    <tr>\n",
       "      <th>2</th>\n",
       "      <td>20</td>\n",
       "      <td>2018-01-05</td>\n",
       "      <td>saurabh</td>\n",
       "      <td>Girl</td>\n",
       "    </tr>\n",
       "    <tr>\n",
       "      <th>3</th>\n",
       "      <td>26</td>\n",
       "      <td>2018-01-12</td>\n",
       "      <td>Bala</td>\n",
       "      <td>Girl</td>\n",
       "    </tr>\n",
       "    <tr>\n",
       "      <th>4</th>\n",
       "      <td>19</td>\n",
       "      <td>2018-07-09</td>\n",
       "      <td>Jules</td>\n",
       "      <td>Girl</td>\n",
       "    </tr>\n",
       "    <tr>\n",
       "      <th>5</th>\n",
       "      <td>43</td>\n",
       "      <td>2018-03-18</td>\n",
       "      <td>Arild</td>\n",
       "      <td>Boy</td>\n",
       "    </tr>\n",
       "    <tr>\n",
       "      <th>6</th>\n",
       "      <td>20</td>\n",
       "      <td>2018-01-05</td>\n",
       "      <td>sarah</td>\n",
       "      <td>Boy</td>\n",
       "    </tr>\n",
       "    <tr>\n",
       "      <th>7</th>\n",
       "      <td>33</td>\n",
       "      <td>2018-08-12</td>\n",
       "      <td>Boly</td>\n",
       "      <td>Boy</td>\n",
       "    </tr>\n",
       "    <tr>\n",
       "      <th>8</th>\n",
       "      <td>35</td>\n",
       "      <td>2018-04-06</td>\n",
       "      <td>Anita</td>\n",
       "      <td>Boy</td>\n",
       "    </tr>\n",
       "    <tr>\n",
       "      <th>9</th>\n",
       "      <td>22</td>\n",
       "      <td>2018-12-06</td>\n",
       "      <td>Jules</td>\n",
       "      <td>Boy</td>\n",
       "    </tr>\n",
       "    <tr>\n",
       "      <th>10</th>\n",
       "      <td>20</td>\n",
       "      <td>2018-07-24</td>\n",
       "      <td>Soul</td>\n",
       "      <td>Girl</td>\n",
       "    </tr>\n",
       "    <tr>\n",
       "      <th>11</th>\n",
       "      <td>54</td>\n",
       "      <td>2018-06-17</td>\n",
       "      <td>Gral</td>\n",
       "      <td>Girl</td>\n",
       "    </tr>\n",
       "    <tr>\n",
       "      <th>12</th>\n",
       "      <td>18</td>\n",
       "      <td>2018-09-07</td>\n",
       "      <td>Apoh</td>\n",
       "      <td>Girl</td>\n",
       "    </tr>\n",
       "    <tr>\n",
       "      <th>13</th>\n",
       "      <td>32</td>\n",
       "      <td>2018-10-04</td>\n",
       "      <td>Dony</td>\n",
       "      <td>Girl</td>\n",
       "    </tr>\n",
       "    <tr>\n",
       "      <th>14</th>\n",
       "      <td>31</td>\n",
       "      <td>2018-02-05</td>\n",
       "      <td>Tanoh</td>\n",
       "      <td>Girl</td>\n",
       "    </tr>\n",
       "    <tr>\n",
       "      <th>15</th>\n",
       "      <td>27</td>\n",
       "      <td>2018-11-12</td>\n",
       "      <td>Issouf</td>\n",
       "      <td>Boy</td>\n",
       "    </tr>\n",
       "    <tr>\n",
       "      <th>16</th>\n",
       "      <td>29</td>\n",
       "      <td>2018-10-03</td>\n",
       "      <td>Bilé</td>\n",
       "      <td>Boy</td>\n",
       "    </tr>\n",
       "    <tr>\n",
       "      <th>17</th>\n",
       "      <td>20</td>\n",
       "      <td>2018-05-03</td>\n",
       "      <td>Gagnon</td>\n",
       "      <td>Boy</td>\n",
       "    </tr>\n",
       "    <tr>\n",
       "      <th>18</th>\n",
       "      <td>28</td>\n",
       "      <td>2018-03-05</td>\n",
       "      <td>Papiss</td>\n",
       "      <td>Boy</td>\n",
       "    </tr>\n",
       "    <tr>\n",
       "      <th>19</th>\n",
       "      <td>34</td>\n",
       "      <td>2018-02-12</td>\n",
       "      <td>Kravitz</td>\n",
       "      <td>Boy</td>\n",
       "    </tr>\n",
       "    <tr>\n",
       "      <th>20</th>\n",
       "      <td>35</td>\n",
       "      <td>2018-05-09</td>\n",
       "      <td>Mouli</td>\n",
       "      <td>Girl</td>\n",
       "    </tr>\n",
       "    <tr>\n",
       "      <th>21</th>\n",
       "      <td>27</td>\n",
       "      <td>2018-08-03</td>\n",
       "      <td>Jacques</td>\n",
       "      <td>Girl</td>\n",
       "    </tr>\n",
       "    <tr>\n",
       "      <th>22</th>\n",
       "      <td>22</td>\n",
       "      <td>2018-12-05</td>\n",
       "      <td>soum</td>\n",
       "      <td>Girl</td>\n",
       "    </tr>\n",
       "    <tr>\n",
       "      <th>23</th>\n",
       "      <td>36</td>\n",
       "      <td>2018-04-12</td>\n",
       "      <td>MBra</td>\n",
       "      <td>Girl</td>\n",
       "    </tr>\n",
       "  </tbody>\n",
       "</table>\n",
       "</div>"
      ],
      "text/plain": [
       "    age        date      name   sex\n",
       "0    25  2018-01-03     Ankit  Girl\n",
       "1    22  2018-02-03  Jalfaizy  Girl\n",
       "2    20  2018-01-05   saurabh  Girl\n",
       "3    26  2018-01-12      Bala  Girl\n",
       "4    19  2018-07-09     Jules  Girl\n",
       "5    43  2018-03-18     Arild   Boy\n",
       "6    20  2018-01-05     sarah   Boy\n",
       "7    33  2018-08-12      Boly   Boy\n",
       "8    35  2018-04-06     Anita   Boy\n",
       "9    22  2018-12-06     Jules   Boy\n",
       "10   20  2018-07-24      Soul  Girl\n",
       "11   54  2018-06-17      Gral  Girl\n",
       "12   18  2018-09-07      Apoh  Girl\n",
       "13   32  2018-10-04      Dony  Girl\n",
       "14   31  2018-02-05     Tanoh  Girl\n",
       "15   27  2018-11-12    Issouf   Boy\n",
       "16   29  2018-10-03      Bilé   Boy\n",
       "17   20  2018-05-03    Gagnon   Boy\n",
       "18   28  2018-03-05    Papiss   Boy\n",
       "19   34  2018-02-12   Kravitz   Boy\n",
       "20   35  2018-05-09     Mouli  Girl\n",
       "21   27  2018-08-03   Jacques  Girl\n",
       "22   22  2018-12-05      soum  Girl\n",
       "23   36  2018-04-12      MBra  Girl"
      ]
     },
     "execution_count": 9,
     "metadata": {},
     "output_type": "execute_result"
    }
   ],
   "source": [
    "l = [(datetime.date(2018,1,3), 'Ankit',25, \"Girl\"),\n",
    "     (datetime.date(2018,2,3), 'Jalfaizy',22, \"Girl\"),\n",
    "     (datetime.date(2018,1,5), 'saurabh',20, \"Girl\"),\n",
    "     (datetime.date(2018,1,12), 'Bala',26, \"Girl\"),\n",
    "     (datetime.date(2018,7,9), 'Jules',19, \"Girl\"),\n",
    "     (datetime.date(2018,3,18), 'Arild',43, \"Boy\"),\n",
    "     (datetime.date(2018,1,5), 'sarah',20, \"Boy\"),\n",
    "     (datetime.date(2018,8,12), 'Boly',33, \"Boy\"),\n",
    "     (datetime.date(2018,4,6), 'Anita',35, \"Boy\"),\n",
    "     (datetime.date(2018,12,6), 'Jules',22, \"Boy\"),\n",
    "     (datetime.date(2018,7,24), 'Soul',20, \"Girl\"),\n",
    "     (datetime.date(2018,6,17), 'Gral',54, \"Girl\"),\n",
    "     (datetime.date(2018,9,7), 'Apoh',18, \"Girl\"),\n",
    "     (datetime.date(2018,10,4), 'Dony',32, \"Girl\"),\n",
    "     (datetime.date(2018,2,5), 'Tanoh',31, \"Girl\"),\n",
    "     (datetime.date(2018,11,12), 'Issouf',27, \"Boy\"),\n",
    "     (datetime.date(2018,10,3), 'Bilé',29, \"Boy\"),\n",
    "     (datetime.date(2018,5,3), 'Gagnon',20, \"Boy\"),\n",
    "     (datetime.date(2018,3,5), 'Papiss',28, \"Boy\"),\n",
    "     (datetime.date(2018,2,12), 'Kravitz',34, \"Boy\"),\n",
    "     (datetime.date(2018,5,9), 'Mouli',35, \"Girl\"),\n",
    "     (datetime.date(2018,8,3), 'Jacques',27, \"Girl\"),\n",
    "     (datetime.date(2018,12,5), 'soum',22, \"Girl\"),\n",
    "     (datetime.date(2018,4,12), 'MBra',36, \"Girl\")]\n",
    "\n",
    "rdd = sc.parallelize(l)\n",
    "people = rdd.map(lambda x: Row(date=x[0], name=x[1], age=int(x[2]), sex=x[3]))\n",
    "schemaPeople = spark.createDataFrame(people)\n",
    "schemaPeople.toPandas()"
   ]
  },
  {
   "cell_type": "markdown",
   "metadata": {},
   "source": [
    "# Question 1"
   ]
  },
  {
   "cell_type": "code",
   "execution_count": 26,
   "metadata": {
    "ExecuteTime": {
     "end_time": "2019-10-30T09:19:10.410351Z",
     "start_time": "2019-10-30T09:19:10.398780Z"
    }
   },
   "outputs": [
    {
     "name": "stdout",
     "output_type": "stream",
     "text": [
      "root\n",
      " |-- age: long (nullable = true)\n",
      " |-- date: date (nullable = true)\n",
      " |-- name: string (nullable = true)\n",
      " |-- sex: string (nullable = true)\n",
      "\n"
     ]
    }
   ],
   "source": [
    "schemaPeople.printSchema()"
   ]
  },
  {
   "cell_type": "code",
   "execution_count": 24,
   "metadata": {
    "ExecuteTime": {
     "end_time": "2019-10-30T09:17:42.207637Z",
     "start_time": "2019-10-30T09:17:41.478909Z"
    }
   },
   "outputs": [
    {
     "name": "stdout",
     "output_type": "stream",
     "text": [
      "+----+-----+\n",
      "|sex |count|\n",
      "+----+-----+\n",
      "|Boy |10   |\n",
      "|Girl|14   |\n",
      "+----+-----+\n",
      "\n"
     ]
    }
   ],
   "source": [
    "# Boys an' Girls\n",
    "schemaPeople.groupBy(\"sex\").count().show(2, False)"
   ]
  },
  {
   "cell_type": "markdown",
   "metadata": {},
   "source": [
    "# Question 2"
   ]
  },
  {
   "cell_type": "code",
   "execution_count": 105,
   "metadata": {
    "ExecuteTime": {
     "end_time": "2019-10-30T11:04:40.874395Z",
     "start_time": "2019-10-30T11:04:40.294363Z"
    }
   },
   "outputs": [
    {
     "name": "stdout",
     "output_type": "stream",
     "text": [
      "+----+------------------+--------+--------+\n",
      "| sex|          avg(age)|min(age)|max(age)|\n",
      "+----+------------------+--------+--------+\n",
      "| Boy|              29.1|      20|      43|\n",
      "|Girl|27.642857142857142|      18|      54|\n",
      "+----+------------------+--------+--------+\n",
      "\n"
     ]
    }
   ],
   "source": [
    "resum = schemaPeople.groupBy(\"sex\").agg(f.mean(\"age\"),f.min(\"age\"),f.max(\"age\"))\n",
    "resum.show()"
   ]
  },
  {
   "cell_type": "markdown",
   "metadata": {},
   "source": [
    "# Question 3"
   ]
  },
  {
   "cell_type": "code",
   "execution_count": 110,
   "metadata": {
    "ExecuteTime": {
     "end_time": "2019-10-30T11:08:27.662548Z",
     "start_time": "2019-10-30T11:08:27.350410Z"
    }
   },
   "outputs": [],
   "source": [
    "medB = schemaPeople.filter(schemaPeople.sex==\"Boy\").approxQuantile(\"age\",[0.5],0.0)\n",
    "medG = schemaPeople.filter(schemaPeople.sex==\"Girl\").approxQuantile(\"age\",[0.5],0.0)\n",
    "#resum.withColumn(\"median\", Column(medB,medG))"
   ]
  },
  {
   "cell_type": "markdown",
   "metadata": {},
   "source": [
    "# Question 4"
   ]
  },
  {
   "cell_type": "code",
   "execution_count": 117,
   "metadata": {
    "ExecuteTime": {
     "end_time": "2019-10-30T11:14:29.731752Z",
     "start_time": "2019-10-30T11:14:29.581067Z"
    }
   },
   "outputs": [
    {
     "name": "stdout",
     "output_type": "stream",
     "text": [
      "+---+----------+--------+----+----------+------+\n",
      "|age|      date|    name| sex|  date_max|lndays|\n",
      "+---+----------+--------+----+----------+------+\n",
      "| 25|2018-01-03|   Ankit|Girl|2019-10-30|   665|\n",
      "| 22|2018-02-03|Jalfaizy|Girl|2019-10-30|   634|\n",
      "| 20|2018-01-05| saurabh|Girl|2019-10-30|   663|\n",
      "| 26|2018-01-12|    Bala|Girl|2019-10-30|   656|\n",
      "| 19|2018-07-09|   Jules|Girl|2019-10-30|   478|\n",
      "+---+----------+--------+----+----------+------+\n",
      "only showing top 5 rows\n",
      "\n"
     ]
    }
   ],
   "source": [
    "dd = schemaPeople.select(\"*\",f.lit(datetime.date.today()).alias(\"date_max\"))\n",
    "dd = dd.select(\"*\", f.datediff('date_max', 'date').alias('lndays'))\n",
    "dd.show(5)"
   ]
  },
  {
   "cell_type": "markdown",
   "metadata": {},
   "source": [
    "# Question 5"
   ]
  },
  {
   "cell_type": "code",
   "execution_count": 120,
   "metadata": {
    "ExecuteTime": {
     "end_time": "2019-10-30T11:14:50.475666Z",
     "start_time": "2019-10-30T11:14:50.221023Z"
    }
   },
   "outputs": [
    {
     "name": "stdout",
     "output_type": "stream",
     "text": [
      "+---+----------+------+----+----------+------+------------------------+\n",
      "|age|      date|  name| sex|  date_max|lndays|datediff(date_max, date)|\n",
      "+---+----------+------+----+----------+------+------------------------+\n",
      "| 22|2018-12-06| Jules| Boy|2019-10-30|   328|                     328|\n",
      "| 32|2018-10-04|  Dony|Girl|2019-10-30|   391|                     391|\n",
      "| 27|2018-11-12|Issouf| Boy|2019-10-30|   352|                     352|\n",
      "| 29|2018-10-03|  Bilé| Boy|2019-10-30|   392|                     392|\n",
      "| 22|2018-12-05|  soum|Girl|2019-10-30|   329|                     329|\n",
      "+---+----------+------+----+----------+------+------------------------+\n",
      "\n"
     ]
    }
   ],
   "source": [
    "dd.select(\"*\", f.datediff('date_max', 'date')).filter(dd.lndays<400).show(5)"
   ]
  }
 ],
 "metadata": {
  "kernelspec": {
   "display_name": "Python 3",
   "language": "python",
   "name": "python3"
  },
  "language_info": {
   "codemirror_mode": {
    "name": "ipython",
    "version": 3
   },
   "file_extension": ".py",
   "mimetype": "text/x-python",
   "name": "python",
   "nbconvert_exporter": "python",
   "pygments_lexer": "ipython3",
   "version": "3.6.5"
  },
  "varInspector": {
   "cols": {
    "lenName": 16,
    "lenType": 16,
    "lenVar": 40
   },
   "kernels_config": {
    "python": {
     "delete_cmd_postfix": "",
     "delete_cmd_prefix": "del ",
     "library": "var_list.py",
     "varRefreshCmd": "print(var_dic_list())"
    },
    "r": {
     "delete_cmd_postfix": ") ",
     "delete_cmd_prefix": "rm(",
     "library": "var_list.r",
     "varRefreshCmd": "cat(var_dic_list()) "
    }
   },
   "types_to_exclude": [
    "module",
    "function",
    "builtin_function_or_method",
    "instance",
    "_Feature"
   ],
   "window_display": false
  }
 },
 "nbformat": 4,
 "nbformat_minor": 2
}
