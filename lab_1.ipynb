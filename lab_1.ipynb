{
 "cells": [
  {
   "cell_type": "code",
   "execution_count": 1,
   "metadata": {
    "ExecuteTime": {
     "end_time": "2019-10-29T15:18:48.335620Z",
     "start_time": "2019-10-29T15:18:47.861709Z"
    }
   },
   "outputs": [],
   "source": [
    "import numpy as np\n",
    "import pandas as pd\n",
    "import warnings\n",
    "warnings.filterwarnings(\"ignore\")"
   ]
  },
  {
   "cell_type": "markdown",
   "metadata": {
    "heading_collapsed": true
   },
   "source": [
    "# 1. Some lil stats"
   ]
  },
  {
   "cell_type": "code",
   "execution_count": 2,
   "metadata": {
    "ExecuteTime": {
     "end_time": "2019-10-29T15:18:48.355221Z",
     "start_time": "2019-10-29T15:18:48.338590Z"
    },
    "hidden": true
   },
   "outputs": [],
   "source": [
    "train = pd.read_csv(\"data/train.csv\", sep=\",\")"
   ]
  },
  {
   "cell_type": "code",
   "execution_count": 3,
   "metadata": {
    "ExecuteTime": {
     "end_time": "2019-10-29T15:18:48.467785Z",
     "start_time": "2019-10-29T15:18:48.357278Z"
    },
    "hidden": true
   },
   "outputs": [],
   "source": [
    "# train.head(3)"
   ]
  },
  {
   "cell_type": "code",
   "execution_count": 4,
   "metadata": {
    "ExecuteTime": {
     "end_time": "2019-10-29T15:18:48.542453Z",
     "start_time": "2019-10-29T15:18:48.470295Z"
    },
    "hidden": true
   },
   "outputs": [],
   "source": [
    "#train.dtypes\n",
    "\n",
    "#Mtrain.describe().T\n",
    "\n",
    "#{\"Survived\":np.count_nonzero(train.Survived[train.Survived==1]), \"Dead\":len(train.Survived[train.Survived==0])}"
   ]
  },
  {
   "cell_type": "code",
   "execution_count": 5,
   "metadata": {
    "ExecuteTime": {
     "end_time": "2019-10-29T15:18:48.614191Z",
     "start_time": "2019-10-29T15:18:48.545295Z"
    },
    "hidden": true
   },
   "outputs": [
    {
     "data": {
      "text/plain": [
       "Index(['Age', 'Cabin', 'Embarked'], dtype='object')"
      ]
     },
     "execution_count": 5,
     "metadata": {},
     "output_type": "execute_result"
    }
   ],
   "source": [
    "# NaN Sources\n",
    "train.columns[train.isna().any()]"
   ]
  },
  {
   "cell_type": "code",
   "execution_count": 6,
   "metadata": {
    "ExecuteTime": {
     "end_time": "2019-10-29T15:18:48.671775Z",
     "start_time": "2019-10-29T15:18:48.615739Z"
    },
    "hidden": true
   },
   "outputs": [
    {
     "data": {
      "text/plain": [
       "array([0.1986532 , 0.77104377, 0.00224467])"
      ]
     },
     "execution_count": 6,
     "metadata": {},
     "output_type": "execute_result"
    }
   ],
   "source": [
    "# NaN ratios\n",
    "np.array([train.Age.isna().sum(),train.Cabin.isna().sum(),train.Embarked.isna().sum()])/train.shape[0]"
   ]
  },
  {
   "cell_type": "markdown",
   "metadata": {},
   "source": [
    "# 2. Imputing missing values"
   ]
  },
  {
   "cell_type": "markdown",
   "metadata": {
    "heading_collapsed": true
   },
   "source": [
    "## Function lab"
   ]
  },
  {
   "cell_type": "code",
   "execution_count": 7,
   "metadata": {
    "ExecuteTime": {
     "end_time": "2019-10-29T15:18:48.742909Z",
     "start_time": "2019-10-29T15:18:48.673247Z"
    },
    "hidden": true
   },
   "outputs": [],
   "source": [
    "def impute_missing_values(df):\n",
    "    for col in df.columns:\n",
    "        if df[col].dtype == np.float:\n",
    "            df[col] = df[col].fillna(df[col].median())\n",
    "        if df[col].dtype == np.object:\n",
    "            df[col] = df[col].fillna(train[col].mode()[0])\n",
    "    return df"
   ]
  },
  {
   "cell_type": "markdown",
   "metadata": {
    "heading_collapsed": true
   },
   "source": [
    "## Function in action"
   ]
  },
  {
   "cell_type": "code",
   "execution_count": 8,
   "metadata": {
    "ExecuteTime": {
     "end_time": "2019-10-29T15:18:48.836314Z",
     "start_time": "2019-10-29T15:18:48.744529Z"
    },
    "hidden": true
   },
   "outputs": [],
   "source": [
    "X = impute_missing_values(train)"
   ]
  },
  {
   "cell_type": "markdown",
   "metadata": {},
   "source": [
    "# 3. Modeling"
   ]
  },
  {
   "cell_type": "markdown",
   "metadata": {},
   "source": [
    "## To start"
   ]
  },
  {
   "cell_type": "code",
   "execution_count": 9,
   "metadata": {
    "ExecuteTime": {
     "end_time": "2019-10-29T15:18:49.400953Z",
     "start_time": "2019-10-29T15:18:48.837873Z"
    }
   },
   "outputs": [],
   "source": [
    "from sklearn.linear_model import LogisticRegressionCV\n",
    "from sklearn.metrics import accuracy_score\n",
    "from sklearn.model_selection import train_test_split, cross_val_score"
   ]
  },
  {
   "cell_type": "code",
   "execution_count": 10,
   "metadata": {
    "ExecuteTime": {
     "end_time": "2019-10-29T15:18:49.424199Z",
     "start_time": "2019-10-29T15:18:49.402680Z"
    }
   },
   "outputs": [
    {
     "data": {
      "text/plain": [
       "((891, 3), (891, 12), (891,))"
      ]
     },
     "execution_count": 10,
     "metadata": {},
     "output_type": "execute_result"
    }
   ],
   "source": [
    "X, y = pd.DataFrame([train.SibSp, train.Fare, train.Parch]).T, train.Survived\n",
    "X.shape, train.shape, y.shape"
   ]
  },
  {
   "cell_type": "markdown",
   "metadata": {},
   "source": [
    "## Adding variables, dummt encoding"
   ]
  },
  {
   "cell_type": "markdown",
   "metadata": {},
   "source": [
    "### Functions lab"
   ]
  },
  {
   "cell_type": "code",
   "execution_count": 11,
   "metadata": {
    "ExecuteTime": {
     "end_time": "2019-10-29T15:18:49.501692Z",
     "start_time": "2019-10-29T15:18:49.426530Z"
    }
   },
   "outputs": [],
   "source": [
    "# Age categorical split\n",
    "def is_child(v, age=10):\n",
    "    v = np.where(v<age,\"yes\",\"no\")\n",
    "    return pd.Series(v, name=\"Age\")\n",
    "\n",
    "# Create matrix by adding columns with same height\n",
    "def create_matrix(features, make_dummies=[]):\n",
    "    variables = []\n",
    "    for idx, f in enumerate(features):\n",
    "        if make_dummies[idx]==True:\n",
    "            variables.append(pd.get_dummies(f, prefix=f.name))\n",
    "        else: variables.append(f)\n",
    "    return pd.concat(variables, axis=1)\n",
    "\n",
    "# Get titles\n",
    "def get_passager_title(p_names):\n",
    "    titles = []\n",
    "    for idx, n in p_names.iteritems():\n",
    "        titles.append(n.split(\",\")[1].split(\".\")[0].strip())\n",
    "    return pd.Series(titles, name=\"Name\")\n",
    "\n",
    "# Check surnames\n",
    "def has_surname(p_names):\n",
    "    return p_names.apply(lambda x: \"(\" in x)"
   ]
  },
  {
   "cell_type": "markdown",
   "metadata": {
    "heading_collapsed": true
   },
   "source": [
    "### Functions in action"
   ]
  },
  {
   "cell_type": "code",
   "execution_count": 12,
   "metadata": {
    "ExecuteTime": {
     "end_time": "2019-10-29T15:18:49.575955Z",
     "start_time": "2019-10-29T15:18:49.503594Z"
    },
    "hidden": true
   },
   "outputs": [],
   "source": [
    "#create_matrix(\n",
    "    #[train.SibSp,train.Fare,train.Parch,train.Pclass,is_child(train.Age),train.Sex],\n",
    "    #[False,False,False,True,True,True]).tail(5)"
   ]
  },
  {
   "cell_type": "code",
   "execution_count": 31,
   "metadata": {
    "ExecuteTime": {
     "end_time": "2019-10-29T14:22:30.518567Z",
     "start_time": "2019-10-29T14:22:30.507868Z"
    },
    "deletable": false,
    "editable": false,
    "hidden": true,
    "run_control": {
     "frozen": true
    }
   },
   "outputs": [],
   "source": [
    "pclass_to_dummies = pd.get_dummies(train.Pclass, prefix=\"Pclass\")\n",
    "sex_to_dommies = pd.get_dummies(train.Sex, prefix=\"Sex\")\n",
    "age_to_dummies = pd.get_dummies(is_child(train.Age.values), prefix=\"Age\")\n",
    "X = pd.concat([X, pclass_to_dummies, sex_to_dommies, age_to_dummies], axis=1)\n",
    "#X.head()"
   ]
  },
  {
   "cell_type": "markdown",
   "metadata": {},
   "source": [
    "## Let's train"
   ]
  },
  {
   "cell_type": "code",
   "execution_count": 13,
   "metadata": {
    "ExecuteTime": {
     "end_time": "2019-10-29T15:18:49.643424Z",
     "start_time": "2019-10-29T15:18:49.577751Z"
    }
   },
   "outputs": [],
   "source": [
    "def train_and_accuracy(x_train, y_train, x_test, y_test):\n",
    "    model_lr = LogisticRegressionCV()\n",
    "    model_lr.fit(x_train,y_train)\n",
    "    return accuracy_score(model_lr.predict(x_test), y_test)"
   ]
  },
  {
   "cell_type": "code",
   "execution_count": 14,
   "metadata": {
    "ExecuteTime": {
     "end_time": "2019-10-29T15:18:49.797619Z",
     "start_time": "2019-10-29T15:18:49.647476Z"
    }
   },
   "outputs": [],
   "source": [
    "X = create_matrix(\n",
    "    [train.SibSp,train.Fare,train.Parch,train.Pclass,\n",
    "     is_child(train.Age),train.Sex,get_passager_title(train.Name), has_surname(train.Name)],\n",
    "    [False,False,False,True,True,True, True, True])"
   ]
  },
  {
   "cell_type": "code",
   "execution_count": 15,
   "metadata": {
    "ExecuteTime": {
     "end_time": "2019-10-29T15:18:50.779330Z",
     "start_time": "2019-10-29T15:18:49.803104Z"
    }
   },
   "outputs": [
    {
     "data": {
      "text/plain": [
       "0.8171641791044776"
      ]
     },
     "execution_count": 15,
     "metadata": {},
     "output_type": "execute_result"
    }
   ],
   "source": [
    "# Spliting data\n",
    "X_train, X_test, y_train, y_test = train_test_split(X, y, test_size=0.3)\n",
    "# Feeding the beast\n",
    "train_and_accuracy(X_train, y_train, X_test, y_test)"
   ]
  },
  {
   "cell_type": "markdown",
   "metadata": {},
   "source": [
    "# Best train partition search"
   ]
  },
  {
   "cell_type": "markdown",
   "metadata": {
    "heading_collapsed": true
   },
   "source": [
    "## Function lab"
   ]
  },
  {
   "cell_type": "code",
   "execution_count": 16,
   "metadata": {
    "ExecuteTime": {
     "end_time": "2019-10-29T15:18:50.787444Z",
     "start_time": "2019-10-29T15:18:50.782241Z"
    },
    "hidden": true
   },
   "outputs": [],
   "source": [
    "def best_train_partition_search(x, y):\n",
    "    test_size_grid = 6*np.logspace(-2,-1,10)\n",
    "    test_score_grid = []\n",
    "    for i in test_size_grid:\n",
    "        X_train, X_test, y_train, y_test = train_test_split(X, y, test_size=i, random_state=102)\n",
    "        model_lr = LogisticRegressionCV()\n",
    "        model_lr.fit(X_train,y_train)\n",
    "        test_score_grid.append(accuracy_score(model_lr.predict(X_test), y_test))\n",
    "    return test_size_grid, test_score_grid"
   ]
  },
  {
   "cell_type": "markdown",
   "metadata": {
    "heading_collapsed": true
   },
   "source": [
    "## Function in action"
   ]
  },
  {
   "cell_type": "code",
   "execution_count": 17,
   "metadata": {
    "ExecuteTime": {
     "end_time": "2019-10-29T15:18:57.515748Z",
     "start_time": "2019-10-29T15:18:50.789734Z"
    },
    "hidden": true
   },
   "outputs": [
    {
     "data": {
      "text/plain": [
       "[<matplotlib.lines.Line2D at 0x7f274a80ea58>]"
      ]
     },
     "execution_count": 17,
     "metadata": {},
     "output_type": "execute_result"
    }
   ],
   "source": [
    "import matplotlib.pyplot as plt\n",
    "\n",
    "test_size_grid, test_score_grid = best_train_partition_search(X, y)\n",
    "plt.plot(test_size_grid, test_score_grid)"
   ]
  },
  {
   "cell_type": "code",
   "execution_count": 18,
   "metadata": {
    "ExecuteTime": {
     "end_time": "2019-10-29T15:18:57.525427Z",
     "start_time": "2019-10-29T15:18:57.518237Z"
    },
    "hidden": true
   },
   "outputs": [
    {
     "data": {
      "text/plain": [
       "0.8402847652462683"
      ]
     },
     "execution_count": 18,
     "metadata": {},
     "output_type": "execute_result"
    }
   ],
   "source": [
    "np.mean(test_score_grid)"
   ]
  },
  {
   "cell_type": "markdown",
   "metadata": {},
   "source": [
    "# Let's do it by cross_validation"
   ]
  },
  {
   "cell_type": "code",
   "execution_count": 19,
   "metadata": {
    "ExecuteTime": {
     "end_time": "2019-10-29T15:19:06.084014Z",
     "start_time": "2019-10-29T15:18:57.528225Z"
    }
   },
   "outputs": [
    {
     "data": {
      "text/plain": [
       "0.8328180683236862"
      ]
     },
     "execution_count": 19,
     "metadata": {},
     "output_type": "execute_result"
    }
   ],
   "source": [
    "model_lr = LogisticRegressionCV()\n",
    "model_lr.fit(X_train,y_train)\n",
    "cx_score = cross_val_score(model_lr, X, y, cv=10)\n",
    "np.mean(cx_score)"
   ]
  },
  {
   "cell_type": "markdown",
   "metadata": {},
   "source": [
    "# Random Forest"
   ]
  },
  {
   "cell_type": "code",
   "execution_count": 64,
   "metadata": {
    "ExecuteTime": {
     "end_time": "2019-10-29T16:11:16.299507Z",
     "start_time": "2019-10-29T16:11:16.287399Z"
    }
   },
   "outputs": [],
   "source": [
    "from sklearn.ensemble import RandomForestClassifier\n",
    "from sklearn.model_selection import GridSearchCV"
   ]
  },
  {
   "cell_type": "markdown",
   "metadata": {},
   "source": [
    "n_estimator,\n",
    "max_depth,\n",
    "min_sample_split,\n",
    "min_samplr_leaf"
   ]
  },
  {
   "cell_type": "code",
   "execution_count": 71,
   "metadata": {
    "ExecuteTime": {
     "end_time": "2019-10-29T16:43:42.942485Z",
     "start_time": "2019-10-29T16:17:52.789509Z"
    },
    "collapsed": true
   },
   "outputs": [
    {
     "name": "stdout",
     "output_type": "stream",
     "text": [
      "Fitting 3 folds for each of 2484 candidates, totalling 7452 fits\n"
     ]
    },
    {
     "name": "stderr",
     "output_type": "stream",
     "text": [
      "[Parallel(n_jobs=3)]: Using backend LokyBackend with 3 concurrent workers.\n",
      "[Parallel(n_jobs=3)]: Done  44 tasks      | elapsed:    7.6s\n",
      "[Parallel(n_jobs=3)]: Done 194 tasks      | elapsed:   38.5s\n",
      "[Parallel(n_jobs=3)]: Done 444 tasks      | elapsed:  1.5min\n",
      "[Parallel(n_jobs=3)]: Done 794 tasks      | elapsed:  2.7min\n",
      "[Parallel(n_jobs=3)]: Done 1244 tasks      | elapsed:  4.3min\n",
      "[Parallel(n_jobs=3)]: Done 1794 tasks      | elapsed:  6.1min\n",
      "[Parallel(n_jobs=3)]: Done 2444 tasks      | elapsed:  8.4min\n",
      "[Parallel(n_jobs=3)]: Done 3194 tasks      | elapsed: 11.4min\n",
      "[Parallel(n_jobs=3)]: Done 4044 tasks      | elapsed: 14.2min\n",
      "[Parallel(n_jobs=3)]: Done 4994 tasks      | elapsed: 17.5min\n",
      "[Parallel(n_jobs=3)]: Done 6044 tasks      | elapsed: 21.0min\n",
      "[Parallel(n_jobs=3)]: Done 7194 tasks      | elapsed: 24.9min\n",
      "[Parallel(n_jobs=3)]: Done 7452 out of 7452 | elapsed: 25.8min finished\n"
     ]
    },
    {
     "data": {
      "text/plain": [
       "GridSearchCV(cv=3, error_score='raise-deprecating',\n",
       "             estimator=RandomForestClassifier(bootstrap=True, class_weight=None,\n",
       "                                              criterion='entropy',\n",
       "                                              max_depth=None,\n",
       "                                              max_features='auto',\n",
       "                                              max_leaf_nodes=None,\n",
       "                                              min_impurity_decrease=0.0,\n",
       "                                              min_impurity_split=None,\n",
       "                                              min_samples_leaf=1,\n",
       "                                              min_samples_split=2,\n",
       "                                              min_weight_fraction_leaf=0.0,\n",
       "                                              n_estimators=100, n_jobs=None,\n",
       "                                              oob_score=Tr...e,\n",
       "                                              verbose=0, warm_start=False),\n",
       "             iid='warn', n_jobs=3,\n",
       "             param_grid={'max_depth': [4, 6, 8, 10],\n",
       "                         'min_samples_leaf': [2, 3, 4, 5, 6, 7, 8, 9, 10],\n",
       "                         'min_samples_split': [2, 4, 6],\n",
       "                         'n_estimators': array([ 50,  70,  90, 110, 130, 150, 170, 190, 210, 230, 250, 270, 290,\n",
       "       310, 330, 350, 370, 390, 410, 430, 450, 470, 490])},\n",
       "             pre_dispatch='2*n_jobs', refit=True, return_train_score=False,\n",
       "             scoring=None, verbose=1)"
      ]
     },
     "execution_count": 71,
     "metadata": {},
     "output_type": "execute_result"
    }
   ],
   "source": [
    "pgrid = {\n",
    "    \"n_estimators\": np.arange(50,500,4),\n",
    "    \"max_depth\": [4,6,8,10],\n",
    "    \"min_samples_split\": [2,4,6],\n",
    "    \"min_samples_leaf\": [2,3,4,5,6,7,8,9,10]\n",
    "}\n",
    "\n",
    "gforest = GridSearchCV(model_rf, param_grid=pgrid, n_jobs=3, cv=3, verbose=1)\n",
    "gforest.fit(X, y)"
   ]
  },
  {
   "cell_type": "code",
   "execution_count": 75,
   "metadata": {
    "ExecuteTime": {
     "end_time": "2019-10-29T17:01:08.899965Z",
     "start_time": "2019-10-29T17:01:08.887770Z"
    }
   },
   "outputs": [
    {
     "data": {
      "text/plain": [
       "{'max_depth': 4,\n",
       " 'min_samples_leaf': 2,\n",
       " 'min_samples_split': 2,\n",
       " 'n_estimators': 170}"
      ]
     },
     "execution_count": 75,
     "metadata": {},
     "output_type": "execute_result"
    }
   ],
   "source": [
    "gforest.best_params_"
   ]
  },
  {
   "cell_type": "markdown",
   "metadata": {},
   "source": [
    "# With best parameters selected"
   ]
  },
  {
   "cell_type": "code",
   "execution_count": 77,
   "metadata": {
    "ExecuteTime": {
     "end_time": "2019-10-29T17:20:07.105897Z",
     "start_time": "2019-10-29T17:20:06.824276Z"
    }
   },
   "outputs": [
    {
     "data": {
      "text/plain": [
       "0.7947761194029851"
      ]
     },
     "execution_count": 77,
     "metadata": {},
     "output_type": "execute_result"
    }
   ],
   "source": [
    "model_rf = RandomForestClassifier(criterion=\"gini\", n_estimators=170, \n",
    "                                  min_samples_leaf=2, max_depth=4, \n",
    "                                  min_samples_split=2,oob_score=True, )\n",
    "model_rf.fit(X_train,y_train)\n",
    "accuracy_score(model_rf.predict(X_test), y_test)"
   ]
  },
  {
   "cell_type": "code",
   "execution_count": null,
   "metadata": {},
   "outputs": [],
   "source": []
  }
 ],
 "metadata": {
  "kernelspec": {
   "display_name": "Python 3",
   "language": "python",
   "name": "python3"
  },
  "language_info": {
   "codemirror_mode": {
    "name": "ipython",
    "version": 3
   },
   "file_extension": ".py",
   "mimetype": "text/x-python",
   "name": "python",
   "nbconvert_exporter": "python",
   "pygments_lexer": "ipython3",
   "version": "3.6.5"
  },
  "varInspector": {
   "cols": {
    "lenName": 16,
    "lenType": 16,
    "lenVar": 40
   },
   "kernels_config": {
    "python": {
     "delete_cmd_postfix": "",
     "delete_cmd_prefix": "del ",
     "library": "var_list.py",
     "varRefreshCmd": "print(var_dic_list())"
    },
    "r": {
     "delete_cmd_postfix": ") ",
     "delete_cmd_prefix": "rm(",
     "library": "var_list.r",
     "varRefreshCmd": "cat(var_dic_list()) "
    }
   },
   "types_to_exclude": [
    "module",
    "function",
    "builtin_function_or_method",
    "instance",
    "_Feature"
   ],
   "window_display": false
  }
 },
 "nbformat": 4,
 "nbformat_minor": 2
}
