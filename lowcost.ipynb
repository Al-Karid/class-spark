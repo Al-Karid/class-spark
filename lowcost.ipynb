{
 "cells": [
  {
   "cell_type": "code",
   "execution_count": 1,
   "metadata": {
    "ExecuteTime": {
     "end_time": "2019-11-03T14:51:09.118362Z",
     "start_time": "2019-11-03T14:51:09.060610Z"
    }
   },
   "outputs": [],
   "source": [
    "from pyspark.sql import SparkSession\n",
    "from pyspark.sql import functions as f"
   ]
  },
  {
   "cell_type": "code",
   "execution_count": 2,
   "metadata": {
    "ExecuteTime": {
     "end_time": "2019-11-03T14:51:12.262496Z",
     "start_time": "2019-11-03T14:51:09.120694Z"
    }
   },
   "outputs": [],
   "source": [
    "spark = SparkSession.builder.appName(\"score_lowcost\").getOrCreate()\n",
    "sc = spark.sparkContext"
   ]
  },
  {
   "cell_type": "markdown",
   "metadata": {},
   "source": [
    "## 1. Loading data"
   ]
  },
  {
   "cell_type": "code",
   "execution_count": 3,
   "metadata": {
    "ExecuteTime": {
     "end_time": "2019-11-03T14:51:12.274466Z",
     "start_time": "2019-11-03T14:51:12.264424Z"
    }
   },
   "outputs": [],
   "source": [
    "from functions.data import load_data"
   ]
  },
  {
   "cell_type": "code",
   "execution_count": 4,
   "metadata": {
    "ExecuteTime": {
     "end_time": "2019-11-03T14:51:17.128971Z",
     "start_time": "2019-11-03T14:51:12.281008Z"
    }
   },
   "outputs": [],
   "source": [
    "ldata = load_data(spark, \"data_clients/data_to_load/\")"
   ]
  },
  {
   "cell_type": "code",
   "execution_count": 5,
   "metadata": {
    "ExecuteTime": {
     "end_time": "2019-11-03T14:51:17.161330Z",
     "start_time": "2019-11-03T14:51:17.130945Z"
    }
   },
   "outputs": [
    {
     "data": {
      "text/plain": [
       "dict_keys(['sample_histo_train.csv', 'sample_visites.csv', 'sample_histo_lowcost.csv', 'sample_perimetre.csv', 'sample_histo_client.csv'])"
      ]
     },
     "execution_count": 5,
     "metadata": {},
     "output_type": "execute_result"
    }
   ],
   "source": [
    "ldata.keys()"
   ]
  },
  {
   "cell_type": "code",
   "execution_count": 6,
   "metadata": {
    "ExecuteTime": {
     "end_time": "2019-11-03T14:51:17.263109Z",
     "start_time": "2019-11-03T14:51:17.165629Z"
    }
   },
   "outputs": [],
   "source": [
    "ldata_keys = list(ldata.keys())\n",
    "perimetre = ldata[ldata_keys[3]]\n",
    "histo_client_raw = ldata[ldata_keys[4]]\n",
    "histo_train_raw = ldata[ldata_keys[0]]\n",
    "histo_lowcost_raw = ldata[ldata_keys[2]]\n",
    "visites_raw = ldata[ldata_keys[1]]"
   ]
  },
  {
   "cell_type": "markdown",
   "metadata": {},
   "source": [
    "## 2. Casting data fromat"
   ]
  },
  {
   "cell_type": "code",
   "execution_count": 7,
   "metadata": {
    "ExecuteTime": {
     "end_time": "2019-11-03T14:51:17.358358Z",
     "start_time": "2019-11-03T14:51:17.264662Z"
    }
   },
   "outputs": [],
   "source": [
    "from functions.conversion import cast_columns_of_df"
   ]
  },
  {
   "cell_type": "code",
   "execution_count": 8,
   "metadata": {
    "ExecuteTime": {
     "end_time": "2019-11-03T14:51:17.782457Z",
     "start_time": "2019-11-03T14:51:17.364641Z"
    }
   },
   "outputs": [],
   "source": [
    "client_cols_to_keep = [\"ID_CLIENT\", 'LBL_STATUT_CLT','LBL_GEO_AIR','LBL_SEG_COMPORTEMENTAL',\n",
    "                       'LBL_GEO_TRAIN','LBL_GRP_SEGMENT_NL',\n",
    "                        'LBL_SEGMENT_ANTICIPATION','FLG_CMD_CARTE_1225']\n",
    "\n",
    "visites = cast_columns_of_df(visites_raw, visites_raw.columns,[\"ID_CLIENT\"], cast_type='double')\n",
    "histo_train = cast_columns_of_df(histo_train_raw, histo_train_raw.columns,[\"ID_CLIENT\"], cast_type='double')\n",
    "histo_lowcost = cast_columns_of_df(histo_lowcost_raw, histo_lowcost_raw.columns,[\"ID_CLIENT\"], cast_type='double')\n",
    "histo_client = cast_columns_of_df(histo_client_raw,[\"anciennete\", \"recence_cmd\", \"AGE\"],client_cols_to_keep,cast_type='double')"
   ]
  },
  {
   "cell_type": "markdown",
   "metadata": {},
   "source": [
    "## 3. Joining the tables"
   ]
  },
  {
   "cell_type": "code",
   "execution_count": 9,
   "metadata": {
    "ExecuteTime": {
     "end_time": "2019-11-03T14:51:17.796707Z",
     "start_time": "2019-11-03T14:51:17.785927Z"
    }
   },
   "outputs": [],
   "source": [
    "from functions.data import join_data"
   ]
  },
  {
   "cell_type": "code",
   "execution_count": 10,
   "metadata": {
    "ExecuteTime": {
     "end_time": "2019-11-03T14:51:17.963672Z",
     "start_time": "2019-11-03T14:51:17.800413Z"
    }
   },
   "outputs": [],
   "source": [
    "col_to_keep = \"ID_CLIENT\"\n",
    "lowcost = join_data([histo_train, histo_lowcost, visites, histo_client], col_to_keep)"
   ]
  },
  {
   "cell_type": "markdown",
   "metadata": {},
   "source": [
    "## 4. NaN Handling"
   ]
  },
  {
   "cell_type": "code",
   "execution_count": 11,
   "metadata": {
    "ExecuteTime": {
     "end_time": "2019-11-03T14:51:18.040287Z",
     "start_time": "2019-11-03T14:51:17.967226Z"
    }
   },
   "outputs": [],
   "source": [
    "from functions.features import input_df"
   ]
  },
  {
   "cell_type": "code",
   "execution_count": 12,
   "metadata": {
    "ExecuteTime": {
     "end_time": "2019-11-03T14:51:18.706990Z",
     "start_time": "2019-11-03T14:51:18.046229Z"
    }
   },
   "outputs": [],
   "source": [
    "df = input_df(lowcost)"
   ]
  },
  {
   "cell_type": "markdown",
   "metadata": {},
   "source": [
    "## 5. Mlib"
   ]
  },
  {
   "cell_type": "code",
   "execution_count": 13,
   "metadata": {
    "ExecuteTime": {
     "end_time": "2019-11-03T14:51:18.720814Z",
     "start_time": "2019-11-03T14:51:18.709292Z"
    }
   },
   "outputs": [],
   "source": [
    "from functions.features import preprocessed_df"
   ]
  },
  {
   "cell_type": "markdown",
   "metadata": {},
   "source": [
    "### 5.1 Features engineering"
   ]
  },
  {
   "cell_type": "code",
   "execution_count": 14,
   "metadata": {
    "ExecuteTime": {
     "end_time": "2019-11-03T14:52:42.772039Z",
     "start_time": "2019-11-03T14:51:18.731130Z"
    }
   },
   "outputs": [],
   "source": [
    "data, dff = preprocessed_df(df)\n",
    "data_ = data.select(\"indexedFeatures\",\"flg_cmd_lowcostIndex\")"
   ]
  },
  {
   "cell_type": "markdown",
   "metadata": {},
   "source": [
    "### 5.2 Logistic classification scoring"
   ]
  },
  {
   "cell_type": "code",
   "execution_count": 15,
   "metadata": {
    "ExecuteTime": {
     "end_time": "2019-11-03T14:52:42.778718Z",
     "start_time": "2019-11-03T14:52:42.774048Z"
    }
   },
   "outputs": [],
   "source": [
    "from functions.models import eval_lr"
   ]
  },
  {
   "cell_type": "code",
   "execution_count": 16,
   "metadata": {
    "ExecuteTime": {
     "end_time": "2019-11-03T14:54:45.901280Z",
     "start_time": "2019-11-03T14:52:42.780655Z"
    }
   },
   "outputs": [],
   "source": [
    "accuracy, auc = eval_lr(data_)"
   ]
  },
  {
   "cell_type": "code",
   "execution_count": 17,
   "metadata": {
    "ExecuteTime": {
     "end_time": "2019-11-03T14:54:45.910516Z",
     "start_time": "2019-11-03T14:54:45.903124Z"
    }
   },
   "outputs": [
    {
     "data": {
      "text/plain": [
       "(0.9658908358509567, 0.9067793525054108)"
      ]
     },
     "execution_count": 17,
     "metadata": {},
     "output_type": "execute_result"
    }
   ],
   "source": [
    "accuracy, auc"
   ]
  },
  {
   "cell_type": "markdown",
   "metadata": {},
   "source": [
    "### 5.3 Random Forest scoring <span style=\"color:red\">Still not working</span>"
   ]
  },
  {
   "cell_type": "code",
   "execution_count": 18,
   "metadata": {
    "ExecuteTime": {
     "end_time": "2019-11-03T14:54:46.048828Z",
     "start_time": "2019-11-03T14:54:45.915076Z"
    }
   },
   "outputs": [],
   "source": [
    "#from pyspark.ml.classification import RandomForestClassifier"
   ]
  }
 ],
 "metadata": {
  "kernelspec": {
   "display_name": "Python 3",
   "language": "python",
   "name": "python3"
  },
  "language_info": {
   "codemirror_mode": {
    "name": "ipython",
    "version": 3
   },
   "file_extension": ".py",
   "mimetype": "text/x-python",
   "name": "python",
   "nbconvert_exporter": "python",
   "pygments_lexer": "ipython3",
   "version": "3.6.5"
  },
  "varInspector": {
   "cols": {
    "lenName": 16,
    "lenType": 16,
    "lenVar": 40
   },
   "kernels_config": {
    "python": {
     "delete_cmd_postfix": "",
     "delete_cmd_prefix": "del ",
     "library": "var_list.py",
     "varRefreshCmd": "print(var_dic_list())"
    },
    "r": {
     "delete_cmd_postfix": ") ",
     "delete_cmd_prefix": "rm(",
     "library": "var_list.r",
     "varRefreshCmd": "cat(var_dic_list()) "
    }
   },
   "types_to_exclude": [
    "module",
    "function",
    "builtin_function_or_method",
    "instance",
    "_Feature"
   ],
   "window_display": false
  }
 },
 "nbformat": 4,
 "nbformat_minor": 2
}
