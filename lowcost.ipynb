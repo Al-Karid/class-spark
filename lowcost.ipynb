{
 "cells": [
  {
   "cell_type": "code",
   "execution_count": 1,
   "metadata": {
    "ExecuteTime": {
     "end_time": "2019-11-03T12:21:12.380388Z",
     "start_time": "2019-11-03T12:21:11.926715Z"
    }
   },
   "outputs": [],
   "source": [
    "from pyspark.sql import SparkSession\n",
    "from pyspark.sql import functions as f"
   ]
  },
  {
   "cell_type": "code",
   "execution_count": 2,
   "metadata": {
    "ExecuteTime": {
     "end_time": "2019-11-03T12:21:27.361390Z",
     "start_time": "2019-11-03T12:21:12.383187Z"
    }
   },
   "outputs": [],
   "source": [
    "spark = SparkSession.builder.appName(\"score_lowcost\").getOrCreate()\n",
    "sc = spark.sparkContext"
   ]
  },
  {
   "cell_type": "markdown",
   "metadata": {},
   "source": [
    "## 1. Loading data"
   ]
  },
  {
   "cell_type": "code",
   "execution_count": 3,
   "metadata": {
    "ExecuteTime": {
     "end_time": "2019-11-03T12:21:27.370432Z",
     "start_time": "2019-11-03T12:21:27.364210Z"
    }
   },
   "outputs": [],
   "source": [
    "from functions.data import load_data"
   ]
  },
  {
   "cell_type": "code",
   "execution_count": 4,
   "metadata": {
    "ExecuteTime": {
     "end_time": "2019-11-03T12:21:35.824849Z",
     "start_time": "2019-11-03T12:21:27.373561Z"
    }
   },
   "outputs": [],
   "source": [
    "ldata = load_data(spark, \"data_clients/data_to_load/\")"
   ]
  },
  {
   "cell_type": "code",
   "execution_count": 5,
   "metadata": {
    "ExecuteTime": {
     "end_time": "2019-11-03T12:21:35.841371Z",
     "start_time": "2019-11-03T12:21:35.826816Z"
    }
   },
   "outputs": [
    {
     "data": {
      "text/plain": [
       "dict_keys(['sample_histo_train.csv', 'sample_visites.csv', 'sample_histo_lowcost.csv', 'sample_perimetre.csv', 'sample_histo_client.csv'])"
      ]
     },
     "execution_count": 5,
     "metadata": {},
     "output_type": "execute_result"
    }
   ],
   "source": [
    "ldata.keys()"
   ]
  },
  {
   "cell_type": "code",
   "execution_count": 6,
   "metadata": {
    "ExecuteTime": {
     "end_time": "2019-11-03T12:21:35.910367Z",
     "start_time": "2019-11-03T12:21:35.843543Z"
    }
   },
   "outputs": [],
   "source": [
    "ldata_keys = list(ldata.keys())\n",
    "perimetre = ldata[ldata_keys[3]]\n",
    "histo_client_raw = ldata[ldata_keys[4]]\n",
    "histo_train_raw = ldata[ldata_keys[0]]\n",
    "histo_lowcost_raw = ldata[ldata_keys[2]]\n",
    "visites_raw = ldata[ldata_keys[1]]"
   ]
  },
  {
   "cell_type": "markdown",
   "metadata": {},
   "source": [
    "## 2. Casting data fromat"
   ]
  },
  {
   "cell_type": "code",
   "execution_count": 7,
   "metadata": {
    "ExecuteTime": {
     "end_time": "2019-11-03T12:21:35.992177Z",
     "start_time": "2019-11-03T12:21:35.914043Z"
    }
   },
   "outputs": [],
   "source": [
    "from functions.conversion import cast_columns_of_df"
   ]
  },
  {
   "cell_type": "code",
   "execution_count": 8,
   "metadata": {
    "ExecuteTime": {
     "end_time": "2019-11-03T12:21:36.614727Z",
     "start_time": "2019-11-03T12:21:36.000419Z"
    }
   },
   "outputs": [],
   "source": [
    "client_cols_to_keep = [\"ID_CLIENT\", 'LBL_STATUT_CLT','LBL_GEO_AIR','LBL_SEG_COMPORTEMENTAL',\n",
    "                       'LBL_GEO_TRAIN','LBL_GRP_SEGMENT_NL',\n",
    "                        'LBL_SEGMENT_ANTICIPATION','FLG_CMD_CARTE_1225']\n",
    "\n",
    "visites = cast_columns_of_df(visites_raw, visites_raw.columns,[\"ID_CLIENT\"], cast_type='double')\n",
    "histo_train = cast_columns_of_df(histo_train_raw, histo_train_raw.columns,[\"ID_CLIENT\"], cast_type='double')\n",
    "histo_lowcost = cast_columns_of_df(histo_lowcost_raw, histo_lowcost_raw.columns,[\"ID_CLIENT\"], cast_type='double')\n",
    "histo_client = cast_columns_of_df(histo_client_raw,[\"anciennete\", \"recence_cmd\", \"AGE\"],client_cols_to_keep,cast_type='double')"
   ]
  },
  {
   "cell_type": "markdown",
   "metadata": {},
   "source": [
    "## 3. Joining the tables"
   ]
  },
  {
   "cell_type": "code",
   "execution_count": 9,
   "metadata": {
    "ExecuteTime": {
     "end_time": "2019-11-03T12:21:36.621059Z",
     "start_time": "2019-11-03T12:21:36.617903Z"
    }
   },
   "outputs": [],
   "source": [
    "from functions.data import join_data"
   ]
  },
  {
   "cell_type": "code",
   "execution_count": 10,
   "metadata": {
    "ExecuteTime": {
     "end_time": "2019-11-03T12:21:36.744138Z",
     "start_time": "2019-11-03T12:21:36.623371Z"
    }
   },
   "outputs": [],
   "source": [
    "col_to_keep = \"ID_CLIENT\"\n",
    "lowcost = join_data([histo_train, histo_lowcost, visites, histo_client], col_to_keep)"
   ]
  },
  {
   "cell_type": "markdown",
   "metadata": {},
   "source": [
    "## 4. NaN Handling"
   ]
  },
  {
   "cell_type": "code",
   "execution_count": 11,
   "metadata": {
    "ExecuteTime": {
     "end_time": "2019-11-03T12:21:37.238895Z",
     "start_time": "2019-11-03T12:21:36.746586Z"
    }
   },
   "outputs": [],
   "source": [
    "from functions.features import input_df"
   ]
  },
  {
   "cell_type": "code",
   "execution_count": 12,
   "metadata": {
    "ExecuteTime": {
     "end_time": "2019-11-03T12:21:37.835486Z",
     "start_time": "2019-11-03T12:21:37.241589Z"
    }
   },
   "outputs": [],
   "source": [
    "df = input_df(lowcost)"
   ]
  },
  {
   "cell_type": "markdown",
   "metadata": {},
   "source": [
    "## 5. Mlib"
   ]
  },
  {
   "cell_type": "code",
   "execution_count": 13,
   "metadata": {
    "ExecuteTime": {
     "end_time": "2019-11-03T12:21:37.853792Z",
     "start_time": "2019-11-03T12:21:37.837656Z"
    }
   },
   "outputs": [],
   "source": [
    "from functions.features import preprocessed_df"
   ]
  },
  {
   "cell_type": "markdown",
   "metadata": {},
   "source": [
    "### 5.1 Features engineering"
   ]
  },
  {
   "cell_type": "code",
   "execution_count": 14,
   "metadata": {
    "ExecuteTime": {
     "end_time": "2019-11-03T12:23:09.600457Z",
     "start_time": "2019-11-03T12:21:37.861142Z"
    }
   },
   "outputs": [],
   "source": [
    "data, dff = preprocessed_df(df)\n",
    "data_ = data.select(\"indexedFeatures\",\"flg_cmd_lowcostIndex\")"
   ]
  },
  {
   "cell_type": "markdown",
   "metadata": {},
   "source": [
    "### 5.2 Logistic regression scoring"
   ]
  },
  {
   "cell_type": "code",
   "execution_count": 15,
   "metadata": {
    "ExecuteTime": {
     "end_time": "2019-11-03T12:23:09.609114Z",
     "start_time": "2019-11-03T12:23:09.604574Z"
    }
   },
   "outputs": [],
   "source": [
    "from functions.models import eval_lr"
   ]
  },
  {
   "cell_type": "code",
   "execution_count": 19,
   "metadata": {
    "ExecuteTime": {
     "end_time": "2019-11-03T12:30:18.702147Z",
     "start_time": "2019-11-03T12:28:10.403954Z"
    }
   },
   "outputs": [],
   "source": [
    "accuracy, auc = eval_lr(data_)"
   ]
  },
  {
   "cell_type": "code",
   "execution_count": 20,
   "metadata": {
    "ExecuteTime": {
     "end_time": "2019-11-03T12:30:54.985372Z",
     "start_time": "2019-11-03T12:30:54.970156Z"
    }
   },
   "outputs": [
    {
     "data": {
      "text/plain": [
       "(0.9660281036566378, 0.9077092986512468)"
      ]
     },
     "execution_count": 20,
     "metadata": {},
     "output_type": "execute_result"
    }
   ],
   "source": [
    "accuracy, auc"
   ]
  }
 ],
 "metadata": {
  "kernelspec": {
   "display_name": "Python 3",
   "language": "python",
   "name": "python3"
  },
  "language_info": {
   "codemirror_mode": {
    "name": "ipython",
    "version": 3
   },
   "file_extension": ".py",
   "mimetype": "text/x-python",
   "name": "python",
   "nbconvert_exporter": "python",
   "pygments_lexer": "ipython3",
   "version": "3.6.5"
  },
  "varInspector": {
   "cols": {
    "lenName": 16,
    "lenType": 16,
    "lenVar": 40
   },
   "kernels_config": {
    "python": {
     "delete_cmd_postfix": "",
     "delete_cmd_prefix": "del ",
     "library": "var_list.py",
     "varRefreshCmd": "print(var_dic_list())"
    },
    "r": {
     "delete_cmd_postfix": ") ",
     "delete_cmd_prefix": "rm(",
     "library": "var_list.r",
     "varRefreshCmd": "cat(var_dic_list()) "
    }
   },
   "types_to_exclude": [
    "module",
    "function",
    "builtin_function_or_method",
    "instance",
    "_Feature"
   ],
   "window_display": false
  }
 },
 "nbformat": 4,
 "nbformat_minor": 2
}
