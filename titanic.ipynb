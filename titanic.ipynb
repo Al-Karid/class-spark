{
 "cells": [
  {
   "cell_type": "code",
   "execution_count": 18,
   "metadata": {
    "ExecuteTime": {
     "end_time": "2019-11-04T01:15:32.521098Z",
     "start_time": "2019-11-04T01:15:32.514061Z"
    }
   },
   "outputs": [],
   "source": [
    "import numpy as np\n",
    "import pandas as pd\n",
    "import warnings\n",
    "warnings.filterwarnings(\"ignore\")"
   ]
  },
  {
   "cell_type": "code",
   "execution_count": 2,
   "metadata": {
    "ExecuteTime": {
     "end_time": "2019-11-04T01:04:25.255426Z",
     "start_time": "2019-11-04T01:04:25.250965Z"
    }
   },
   "outputs": [],
   "source": [
    "from titanic.data import load"
   ]
  },
  {
   "cell_type": "markdown",
   "metadata": {
    "ExecuteTime": {
     "end_time": "2019-11-04T00:36:21.273103Z",
     "start_time": "2019-11-04T00:36:21.266843Z"
    }
   },
   "source": [
    "# 1. Loading data"
   ]
  },
  {
   "cell_type": "code",
   "execution_count": 3,
   "metadata": {
    "ExecuteTime": {
     "end_time": "2019-11-04T01:04:25.355332Z",
     "start_time": "2019-11-04T01:04:25.257937Z"
    }
   },
   "outputs": [
    {
     "data": {
      "text/plain": [
       "['test.csv', 'train.csv', 'gender_submission.csv']"
      ]
     },
     "execution_count": 3,
     "metadata": {},
     "output_type": "execute_result"
    }
   ],
   "source": [
    "datas = load(\"data/\"); klist = list(datas.keys()); klist"
   ]
  },
  {
   "cell_type": "code",
   "execution_count": 4,
   "metadata": {
    "ExecuteTime": {
     "end_time": "2019-11-04T01:04:25.421150Z",
     "start_time": "2019-11-04T01:04:25.360092Z"
    }
   },
   "outputs": [],
   "source": [
    "train = datas[klist[1]]\n",
    "Xtest = datas[klist[0]]\n",
    "Ytest = datas[klist[2]].Survived"
   ]
  },
  {
   "cell_type": "code",
   "execution_count": 5,
   "metadata": {
    "ExecuteTime": {
     "end_time": "2019-11-04T01:04:25.501581Z",
     "start_time": "2019-11-04T01:04:25.427318Z"
    }
   },
   "outputs": [
    {
     "data": {
      "text/plain": [
       "Index(['Age', 'Cabin', 'Embarked'], dtype='object')"
      ]
     },
     "execution_count": 5,
     "metadata": {},
     "output_type": "execute_result"
    }
   ],
   "source": [
    "# NaN Sources\n",
    "train.columns[train.isna().any()]"
   ]
  },
  {
   "cell_type": "markdown",
   "metadata": {
    "ExecuteTime": {
     "end_time": "2019-11-04T00:39:47.942667Z",
     "start_time": "2019-11-04T00:39:47.934838Z"
    }
   },
   "source": [
    "# 2. Preprocessing"
   ]
  },
  {
   "cell_type": "code",
   "execution_count": 8,
   "metadata": {
    "ExecuteTime": {
     "end_time": "2019-11-04T01:04:52.408647Z",
     "start_time": "2019-11-04T01:04:52.395873Z"
    }
   },
   "outputs": [],
   "source": [
    "from titanic.preprocessing import create_matrix, get_passager_title, is_child, has_surname, clean_testset"
   ]
  },
  {
   "cell_type": "code",
   "execution_count": 9,
   "metadata": {
    "ExecuteTime": {
     "end_time": "2019-11-04T01:04:53.441054Z",
     "start_time": "2019-11-04T01:04:53.380463Z"
    }
   },
   "outputs": [],
   "source": [
    "# The train set\n",
    "Xtrain = create_matrix(\n",
    "        [train.SibSp,train.Fare,train.Parch,train.Pclass,is_child(train.Age),\n",
    "         train.Sex,get_passager_title(train.Name), has_surname(train.Name)],\n",
    "        [False,False,False,True,True,True, True, True])\n",
    "Ytrain = train.Survived"
   ]
  },
  {
   "cell_type": "code",
   "execution_count": 10,
   "metadata": {
    "ExecuteTime": {
     "end_time": "2019-11-04T01:05:00.870033Z",
     "start_time": "2019-11-04T01:05:00.832762Z"
    }
   },
   "outputs": [],
   "source": [
    "# The test set\n",
    "XtestX = create_matrix(\n",
    "        [Xtest.SibSp,Xtest.Fare,Xtest.Parch,Xtest.Pclass,is_child(Xtest.Age),\n",
    "         Xtest.Sex,get_passager_title(Xtest.Name), has_surname(Xtest.Name)],\n",
    "        [False,False,False,True,True,True, True, True])\n",
    "XtestX = clean_testset(Xtrain, XtestX)"
   ]
  },
  {
   "cell_type": "markdown",
   "metadata": {},
   "source": [
    "# 3. Best partition search"
   ]
  },
  {
   "cell_type": "markdown",
   "metadata": {},
   "source": [
    "## 3.1 Logistic classification"
   ]
  },
  {
   "cell_type": "code",
   "execution_count": 24,
   "metadata": {
    "ExecuteTime": {
     "end_time": "2019-11-04T01:20:14.325136Z",
     "start_time": "2019-11-04T01:20:14.319328Z"
    }
   },
   "outputs": [],
   "source": [
    "import matplotlib.pyplot as plt\n",
    "from sklearn.model_selection import cross_val_score\n",
    "from sklearn.linear_model import LogisticRegressionCV\n",
    "from titanic.models import best_train_partition_search"
   ]
  },
  {
   "cell_type": "code",
   "execution_count": 19,
   "metadata": {
    "ExecuteTime": {
     "end_time": "2019-11-04T01:15:43.842074Z",
     "start_time": "2019-11-04T01:15:36.728026Z"
    },
    "scrolled": true
   },
   "outputs": [
    {
     "data": {
      "text/plain": [
       "[<matplotlib.lines.Line2D at 0x7f8fbcac3710>]"
      ]
     },
     "execution_count": 19,
     "metadata": {},
     "output_type": "execute_result"
    },
    {
     "data": {
      "image/png": "[encoded data removed]",
      "text/plain": [
       "<Figure size 432x288 with 1 Axes>"
      ]
     },
     "metadata": {},
     "output_type": "display_data"
    }
   ],
   "source": [
    "model_lr = LogisticRegressionCV()\n",
    "test_size_grid, test_score_grid = best_train_partition_search(model_lr, Xtrain, Ytrain)\n",
    "plt.plot(test_size_grid, test_score_grid)"
   ]
  },
  {
   "cell_type": "markdown",
   "metadata": {},
   "source": [
    "On a meilleur score avec un split compris entre 0.2 et 0.3. Lorsqu'on compare ce score avec celui de la validation croisee on obtient "
   ]
  },
  {
   "cell_type": "code",
   "execution_count": 27,
   "metadata": {
    "ExecuteTime": {
     "end_time": "2019-11-04T01:21:28.543850Z",
     "start_time": "2019-11-04T01:21:19.299586Z"
    }
   },
   "outputs": [
    {
     "data": {
      "text/plain": [
       "{'score_cv': 0.8328180683236862, 'score_split': 0.8402847652462683}"
      ]
     },
     "execution_count": 27,
     "metadata": {},
     "output_type": "execute_result"
    }
   ],
   "source": [
    "model_lr.fit(Xtrain,Ytrain)\n",
    "cx_score = cross_val_score(model_lr, Xtrain, Ytrain, cv=10)\n",
    "{\"score_cv\":np.mean(cx_score),\"score_split\":np.mean(test_score_grid)}"
   ]
  },
  {
   "cell_type": "markdown",
   "metadata": {},
   "source": [
    "On obtient presques les meme scores. Ainsi la cross-validation suffit largement pour choisir le bon parametre "
   ]
  },
  {
   "cell_type": "markdown",
   "metadata": {},
   "source": [
    "## 3.2 Random Forest"
   ]
  },
  {
   "cell_type": "code",
   "execution_count": 28,
   "metadata": {
    "ExecuteTime": {
     "end_time": "2019-11-04T01:25:42.586590Z",
     "start_time": "2019-11-04T01:25:42.311686Z"
    }
   },
   "outputs": [],
   "source": [
    "from sklearn.ensemble import RandomForestClassifier\n",
    "from sklearn.model_selection import GridSearchCV"
   ]
  },
  {
   "cell_type": "code",
   "execution_count": 31,
   "metadata": {
    "ExecuteTime": {
     "end_time": "2019-11-04T01:43:03.078019Z",
     "start_time": "2019-11-04T01:31:51.219850Z"
    }
   },
   "outputs": [
    {
     "name": "stdout",
     "output_type": "stream",
     "text": [
      "Fitting 3 folds for each of 1200 candidates, totalling 3600 fits\n"
     ]
    },
    {
     "name": "stderr",
     "output_type": "stream",
     "text": [
      "[Parallel(n_jobs=8)]: Using backend LokyBackend with 8 concurrent workers.\n",
      "[Parallel(n_jobs=8)]: Done  34 tasks      | elapsed:    4.7s\n",
      "[Parallel(n_jobs=8)]: Done 184 tasks      | elapsed:   19.5s\n",
      "[Parallel(n_jobs=8)]: Done 434 tasks      | elapsed:  1.3min\n",
      "[Parallel(n_jobs=8)]: Done 784 tasks      | elapsed:  2.1min\n",
      "[Parallel(n_jobs=8)]: Done 1234 tasks      | elapsed:  3.5min\n",
      "[Parallel(n_jobs=8)]: Done 1784 tasks      | elapsed:  5.4min\n",
      "[Parallel(n_jobs=8)]: Done 2434 tasks      | elapsed:  7.2min\n",
      "[Parallel(n_jobs=8)]: Done 3184 tasks      | elapsed:  9.9min\n",
      "[Parallel(n_jobs=8)]: Done 3600 out of 3600 | elapsed: 11.2min finished\n"
     ]
    },
    {
     "data": {
      "text/plain": [
       "GridSearchCV(cv=3, error_score='raise-deprecating',\n",
       "             estimator=RandomForestClassifier(bootstrap=True, class_weight=None,\n",
       "                                              criterion='gini', max_depth=None,\n",
       "                                              max_features='auto',\n",
       "                                              max_leaf_nodes=None,\n",
       "                                              min_impurity_decrease=0.0,\n",
       "                                              min_impurity_split=None,\n",
       "                                              min_samples_leaf=1,\n",
       "                                              min_samples_split=2,\n",
       "                                              min_weight_fraction_leaf=0.0,\n",
       "                                              n_estimators='warn', n_jobs=None,\n",
       "                                              oob_score=Fa...\n",
       "       284, 287, 290, 293, 296, 299, 302, 305, 308, 311, 314, 317, 320,\n",
       "       323, 326, 329, 332, 335, 338, 341, 344, 347, 350, 353, 356, 359,\n",
       "       362, 365, 368, 371, 374, 377, 380, 383, 386, 389, 392, 395, 398,\n",
       "       401, 404, 407, 410, 413, 416, 419, 422, 425, 428, 431, 434, 437,\n",
       "       440, 443, 446, 449, 452, 455, 458, 461, 464, 467, 470, 473, 476,\n",
       "       479, 482, 485, 488, 491, 494, 497])},\n",
       "             pre_dispatch='2*n_jobs', refit=True, return_train_score=False,\n",
       "             scoring=None, verbose=1)"
      ]
     },
     "execution_count": 31,
     "metadata": {},
     "output_type": "execute_result"
    }
   ],
   "source": [
    "pgrid = {\"n_estimators\": np.arange(50,500,3), \"max_depth\": [4,10], \n",
    "         \"min_samples_split\": [2,6],\"min_samples_leaf\": [2,5]}\n",
    "\n",
    "model_rf = RandomForestClassifier()\n",
    "gforest = GridSearchCV(model_rf, param_grid=pgrid, n_jobs=8, cv=3, verbose=1)\n",
    "gforest.fit(Xtrain, Ytrain)"
   ]
  },
  {
   "cell_type": "markdown",
   "metadata": {},
   "source": [
    "# Final test"
   ]
  },
  {
   "cell_type": "code",
   "execution_count": 37,
   "metadata": {
    "ExecuteTime": {
     "end_time": "2019-11-04T01:45:15.328652Z",
     "start_time": "2019-11-04T01:45:15.313194Z"
    }
   },
   "outputs": [],
   "source": [
    "from sklearn.metrics import accuracy_score"
   ]
  },
  {
   "cell_type": "code",
   "execution_count": 39,
   "metadata": {
    "ExecuteTime": {
     "end_time": "2019-11-04T01:45:40.131224Z",
     "start_time": "2019-11-04T01:45:40.102053Z"
    }
   },
   "outputs": [
    {
     "data": {
      "text/plain": [
       "0.8110047846889952"
      ]
     },
     "execution_count": 39,
     "metadata": {},
     "output_type": "execute_result"
    }
   ],
   "source": [
    "# Score on test\n",
    "Xtest_predictions = gforest.predict(XtestX)\n",
    "accuracy_score(Xtest_predictions, np.array(Ytest))"
   ]
  }
 ],
 "metadata": {
  "kernelspec": {
   "display_name": "Python 3",
   "language": "python",
   "name": "python3"
  },
  "language_info": {
   "codemirror_mode": {
    "name": "ipython",
    "version": 3
   },
   "file_extension": ".py",
   "mimetype": "text/x-python",
   "name": "python",
   "nbconvert_exporter": "python",
   "pygments_lexer": "ipython3",
   "version": "3.6.5"
  },
  "varInspector": {
   "cols": {
    "lenName": 16,
    "lenType": 16,
    "lenVar": 40
   },
   "kernels_config": {
    "python": {
     "delete_cmd_postfix": "",
     "delete_cmd_prefix": "del ",
     "library": "var_list.py",
     "varRefreshCmd": "print(var_dic_list())"
    },
    "r": {
     "delete_cmd_postfix": ") ",
     "delete_cmd_prefix": "rm(",
     "library": "var_list.r",
     "varRefreshCmd": "cat(var_dic_list()) "
    }
   },
   "types_to_exclude": [
    "module",
    "function",
    "builtin_function_or_method",
    "instance",
    "_Feature"
   ],
   "window_display": false
  }
 },
 "nbformat": 4,
 "nbformat_minor": 2
}
